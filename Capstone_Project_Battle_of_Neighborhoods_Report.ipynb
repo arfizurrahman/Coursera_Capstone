{
    "cells": [
        {
            "cell_type": "markdown",
            "metadata": {
                "collapsed": true
            },
            "source": "# Final Capstone Project Report - The Battle of Neighborhoods "
        },
        {
            "cell_type": "markdown",
            "metadata": {},
            "source": "## 1. Problem Description"
        },
        {
            "cell_type": "markdown",
            "metadata": {},
            "source": "### Exploring the best venues in Cox's Bazar, the world's longest sea beach. "
        },
        {
            "cell_type": "markdown",
            "metadata": {},
            "source": "Cox's Bazar, Bangladesh is the world's longest sea beach. It is an attractive tourist spot where a massive amount of people comes to visit every year, especially in the winter season. Also, many international NGOs have their offices here. Due to the tourist attraction of this place, a lot of hotels, resorts, and other recreational venues have been built in this area. But not all of them are affordable to every tourist. Combining the location of the venues in the city with their price and rating information would surely help tourists make better decisions about the places they should visit and about the hotel or resort they should stay in.\n\nThe main goal of this project is to explore various venues in Cox's Bazar based on user rating and average price. \n\nThis project would use Four-square API as its prime data gathering source as it has a database of millions of places, especially their places API which provides the ability to perform location search, location sharing, and details about a business. Further, a map of the venues with specific color attributes will be plotted to highlight the position and information about these venues. This enables tourists to decide what places to visit and in which hotel or resort to stay.\n\n### Target Audience:\n\nThe target audience for this project can be divided into two categories. First, tourists who are visiting Cox's Bazar, Bangladesh can use the clustered map to decide what places to visit and in which hotel or resort to stay based on their budget and rating preferences. Second, developers can create a website or mobile application using this information, in which the data about location will be updated on a regular basis, to help tourists decide the places to visit and hotels to stay in."
        },
        {
            "cell_type": "markdown",
            "metadata": {},
            "source": "## 2. Data Description"
        },
        {
            "cell_type": "markdown",
            "metadata": {},
            "source": "### Data Scource"
        },
        {
            "cell_type": "markdown",
            "metadata": {},
            "source": "#### Foursquare API Data:"
        },
        {
            "cell_type": "markdown",
            "metadata": {},
            "source": "This project uses Foursquare API to get location data and other information about different venues in Cox's Bazar, Bangladesh.\n\n#### Data Cleaning:\n\nFoursquare API returns many data for each venue. The data retrieved from Foursquare contained information of venues within a specified distance of the longitude and latitude of the postcodes. The information obtained per venue as follows:\n\n  1. **Name:** The name of the venue\n  3. **Rating:** The rating provided by the users\n  4. **Price category:** The price category the venues belongs to as defined by the API\n  6. **Latitude:** The latitude of the venue\n  7. **Longitude:** The longitude of the venue\n  8. **Category:** The category defined by the API"
        },
        {
            "cell_type": "code",
            "execution_count": null,
            "metadata": {},
            "outputs": [],
            "source": ""
        }
    ],
    "metadata": {
        "kernelspec": {
            "display_name": "Python 3.7",
            "language": "python",
            "name": "python3"
        },
        "language_info": {
            "codemirror_mode": {
                "name": "ipython",
                "version": 3
            },
            "file_extension": ".py",
            "mimetype": "text/x-python",
            "name": "python",
            "nbconvert_exporter": "python",
            "pygments_lexer": "ipython3",
            "version": "3.7.9"
        }
    },
    "nbformat": 4,
    "nbformat_minor": 1
}