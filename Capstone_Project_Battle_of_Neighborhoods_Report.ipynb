{
 "cells": [
  {
   "cell_type": "markdown",
   "metadata": {},
   "source": [
    "# Final Capstone Project Report - The Battle of Neighborhoods "
   ]
  },
  {
   "cell_type": "markdown",
   "metadata": {},
   "source": [
    "## Table of contents\n",
    "* [Introduction: Business Problem](#introduction)\n",
    "* [Data](#data)\n",
    "* [Methodology](#methodology)\n",
    "* [Analysis](#analysis)\n",
    "* [Results and Discussion](#results)\n",
    "* [Conclusion](#conclusion)"
   ]
  },
  {
   "cell_type": "markdown",
   "metadata": {},
   "source": [
    "\n",
    "## 1. Introduction: Business Problem <a name=\"introduction\"></a>"
   ]
  },
  {
   "cell_type": "markdown",
   "metadata": {},
   "source": [
    "### Exploring the best venues in Dhaka, the Capital of Bangladesh. "
   ]
  },
  {
   "cell_type": "markdown",
   "metadata": {},
   "source": [
    "Dhaka, the capital of Bangladesh. More than 19.5 million people live in Dhaka. It is the most densely populated city in the country spanning 300 kilometers — about 186 miles. The rich traditions and the interesting history of Dhaka have managed to attract a lot of tourists over the years. And the number of tourists visiting the area has only increased with time. This city definitely stands on the expectations and pressure that comes with the capital city. Dhaka is much more than traditions and boring business numbers. \n",
    "\n",
    "When tourists visit a city or country it's apparent that they will look for the best places to stay and eat. They tend to visit places based on previous user ratings or prices. There are many venues in Dhaka for eating and staying, but not all of them are best, or not all of them are affordable for everyone.\n",
    "\n",
    "The main goal of this project is to explore various venues in Dhaka and analyze them based on **user ratings and pricing tiers**. We'll focus specifically on the *'food'* and *'hotel/resort'* category. This project will use **FourSquare API** as its prime data gathering source as it has a database of millions of places, especially their places API which provides the ability to perform location search, location sharing, and details about a business. Further, a map of the venues with specific color attributes will be plotted to highlight the position and information about these venues. This enables tourists to choose the perfect venues to eat and stay.\n",
    "\n",
    "### Target Audience:\n",
    "\n",
    "The target audience for this project can be divided into two categories. First, tourists who are visiting Dhaka, Bangladesh can use the clustered map to decide what places to visit and in which hotel or resort to stay based on their budget and rating preferences. Second, developers can create a website or mobile application using this information, in which the data about location will be updated on a regular basis, to help tourists decide the places to visit and hotels to stay in."
   ]
  },
  {
   "cell_type": "markdown",
   "metadata": {},
   "source": [
    "## 2. Data <a name=\"data\"></a>"
   ]
  },
  {
   "cell_type": "markdown",
   "metadata": {},
   "source": [
    "### Data Scource"
   ]
  },
  {
   "cell_type": "markdown",
   "metadata": {},
   "source": [
    "#### Foursquare API Data:"
   ]
  },
  {
   "cell_type": "markdown",
   "metadata": {},
   "source": [
    "This project uses Foursquare API to get location data and other information about different venues in Dhaka, Bangladesh.\n",
    "\n",
    "#### Data Cleaning:\n",
    "\n",
    "Foursquare API returns many data for each venue. The data retrieved from Foursquare contained information of venues within a specified distance of the longitude and latitude of the postcodes. The information obtained per venue as follows:\n",
    "\n",
    "  1. **Name:** The name of the venue\n",
    "  3. **Rating:** The rating provided by the users\n",
    "  4. **Price category:** The price category the venues belongs to as defined by the API\n",
    "  6. **Latitude:** The latitude of the venue\n",
    "  7. **Longitude:** The longitude of the venue\n",
    "  8. **Category:** The category defined by the API\n",
    "  9. **Address:** The address of the venue"
   ]
  },
  {
   "cell_type": "markdown",
   "metadata": {},
   "source": [
    "### Dhaka\n",
    "\n",
    "We can use the geocoder library to extract the latitude and longitude. Let's first find the latitude & longitude of Gulshan, Dhaka (choosed Gulshan as it's in the middle of Dhaka), using geocoder."
   ]
  },
  {
   "cell_type": "code",
   "execution_count": 5,
   "metadata": {},
   "outputs": [
    {
     "name": "stdout",
     "output_type": "stream",
     "text": [
      "Latitude of Dhaka: 23.782660000000078, Longitude of Dhaka: 90.41164000000003.\n"
     ]
    }
   ],
   "source": [
    "#!pip install geocoder\n",
    "import geocoder\n",
    "\n",
    "def get_latilong():\n",
    "    lati_long_coords = None\n",
    "    while(lati_long_coords is None):\n",
    "        g = geocoder.arcgis('Gulshan, Dhaka, Bangladesh')\n",
    "        lati_long_coords = g.latlng\n",
    "    return lati_long_coords\n",
    "    \n",
    "dhaka_latlong = get_latilong()\n",
    "\n",
    "print('Latitude of Dhaka: {}, Longitude of Dhaka: {}.'.format(dhaka_latlong[0], dhaka_latlong[1]))"
   ]
  },
  {
   "cell_type": "markdown",
   "metadata": {},
   "source": [
    "We'll a create map zoomed on Dhaka using **folium**. Let's also plot a marker on Gulshan, Dhaka, using the extracted coordinates. It'll help us visualize our starting point for the next phase, i.e data extraction from FourSquare API."
   ]
  },
  {
   "cell_type": "code",
   "execution_count": 6,
   "metadata": {},
   "outputs": [
    {
     "data": {
      "text/plain": [
       "<folium.map.Marker at 0x7f6a847dfd30>"
      ]
     },
     "execution_count": 6,
     "metadata": {},
     "output_type": "execute_result"
    }
   ],
   "source": [
    "import folium\n",
    "\n",
    "dhaka_map = folium.Map(location = dhaka_latlong, zoom_start = 12)\n",
    "folium.Marker(dhaka_latlong).add_to(dhaka_map)"
   ]
  },
  {
   "cell_type": "markdown",
   "metadata": {},
   "source": [
    "For using Foursquare API we'll need to **create a developer/sandbox account**. After creating the account we'll have to **create a project**. Once the project is created we'll be able to access the **client_id, client_secret** that will be necessary for fetching data from Foursquare API. We'll also have to set up an **access_token** that is required for some endpoints.\n",
    "\n",
    "Next, we will set the **radius to 9 Kilometers**.\n",
    "We'll also need a **version parameter in 'YYYYMMDD' format**. We can simply set it to the **current date** to retrieve the **latest data**."
   ]
  },
  {
   "cell_type": "code",
   "execution_count": 38,
   "metadata": {},
   "outputs": [],
   "source": [
    "# The code was removed by Watson Studio for sharing."
   ]
  },
  {
   "cell_type": "markdown",
   "metadata": {},
   "source": [
    "Let's define a function that extracts the category of the venue."
   ]
  },
  {
   "cell_type": "code",
   "execution_count": 8,
   "metadata": {},
   "outputs": [],
   "source": [
    "def get_category_type(row):\n",
    "    try:\n",
    "        categories_list = row['categories']\n",
    "    except:\n",
    "        categories_list = row['venue.categories']\n",
    "        \n",
    "    if len(categories_list) == 0:\n",
    "        return None\n",
    "    else:\n",
    "        return categories_list[0]['name']"
   ]
  },
  {
   "cell_type": "markdown",
   "metadata": {},
   "source": [
    "Now, Let's import the required libraries."
   ]
  },
  {
   "cell_type": "code",
   "execution_count": 9,
   "metadata": {},
   "outputs": [],
   "source": [
    "import numpy as np\n",
    "import pandas as pd\n",
    "\n",
    "import matplotlib.pyplot as plt\n",
    "import matplotlib.cm as cm\n",
    "import matplotlib.colors as colors\n",
    "\n",
    "from pandas.io.json import json_normalize\n",
    "import requests\n",
    "\n",
    "pd.set_option('display.max_rows', None)"
   ]
  },
  {
   "cell_type": "markdown",
   "metadata": {},
   "source": [
    "As per documentation the maximum venues the Foursquare API can fetch is 100. So we need to call the API multiple times until all the avaiable venues are fetched. We'll increase the offset by 100 in each iteration to get the next 100 venues if avaiable."
   ]
  },
  {
   "cell_type": "code",
   "execution_count": 10,
   "metadata": {},
   "outputs": [
    {
     "name": "stdout",
     "output_type": "stream",
     "text": [
      "Total 100 venues fetched within a total radius of 9.0 Km\n"
     ]
    },
    {
     "name": "stderr",
     "output_type": "stream",
     "text": [
      "/home/jupyterlab/conda/envs/python/lib/python3.6/site-packages/ipykernel_launcher.py:21: FutureWarning: pandas.io.json.json_normalize is deprecated, use pandas.json_normalize instead\n"
     ]
    },
    {
     "name": "stdout",
     "output_type": "stream",
     "text": [
      "Total 54 venues fetched within a total radius of 9.0 Km\n",
      "\n",
      "Total 154 venues fetched\n"
     ]
    }
   ],
   "source": [
    "offset = 0\n",
    "total_venues = 0\n",
    "foursquare_venues = pd.DataFrame(columns = ['VenueId', 'Name', 'Categories', 'Latitude', 'Longitude'])\n",
    "\n",
    "while (True):\n",
    "    url = ('https://api.foursquare.com/v2/venues/explore?client_id={}'\n",
    "           '&client_secret={}&v={}&ll={},{}&radius={}&limit={}&offset={}').format(CLIENT_ID, \n",
    "                                                                        CLIENT_SECRET, \n",
    "                                                                        VERSION, \n",
    "                                                                        dhaka_latlong[0], \n",
    "                                                                        dhaka_latlong[1],\n",
    "                                                                        RADIUS,\n",
    "                                                                        LIMIT,\n",
    "                                                                        offset)\n",
    "    result = requests.get(url).json()\n",
    "    venues_fetched = len(result['response']['groups'][0]['items'])\n",
    "    total_venues = total_venues + venues_fetched\n",
    "    print(\"Total {} venues fetched within a total radius of {} Km\".format(venues_fetched, RADIUS/1000))\n",
    "\n",
    "    venues = result['response']['groups'][0]['items']\n",
    "    venues = json_normalize(venues)\n",
    "\n",
    "    # Filter the columns\n",
    "    filtered_columns = ['venue.id', 'venue.name', 'venue.categories', 'venue.location.lat', 'venue.location.lng']\n",
    "    venues = venues.loc[:, filtered_columns]\n",
    "\n",
    "    # Filter the category for each row\n",
    "    venues['venue.categories'] = venues.apply(get_category_type, axis = 1)\n",
    "\n",
    "    # Clean all column names\n",
    "    venues.columns = ['VenueId', 'Name', 'Categories', 'Latitude', 'Longitude']\n",
    "    foursquare_venues = pd.concat([foursquare_venues, venues], axis = 0, sort = False)\n",
    "    \n",
    "    if (venues_fetched < 100):\n",
    "        break\n",
    "    else:\n",
    "        offset = offset + 100\n",
    "\n",
    "foursquare_venues = foursquare_venues.reset_index(drop = True)\n",
    "print(\"\\nTotal {} venues fetched\".format(total_venues))"
   ]
  },
  {
   "cell_type": "markdown",
   "metadata": {},
   "source": [
    "Let's have a look at the dataset."
   ]
  },
  {
   "cell_type": "code",
   "execution_count": 11,
   "metadata": {},
   "outputs": [
    {
     "data": {
      "text/html": [
       "<div>\n",
       "<style scoped>\n",
       "    .dataframe tbody tr th:only-of-type {\n",
       "        vertical-align: middle;\n",
       "    }\n",
       "\n",
       "    .dataframe tbody tr th {\n",
       "        vertical-align: top;\n",
       "    }\n",
       "\n",
       "    .dataframe thead th {\n",
       "        text-align: right;\n",
       "    }\n",
       "</style>\n",
       "<table border=\"1\" class=\"dataframe\">\n",
       "  <thead>\n",
       "    <tr style=\"text-align: right;\">\n",
       "      <th></th>\n",
       "      <th>VenueId</th>\n",
       "      <th>Name</th>\n",
       "      <th>Categories</th>\n",
       "      <th>Latitude</th>\n",
       "      <th>Longitude</th>\n",
       "    </tr>\n",
       "  </thead>\n",
       "  <tbody>\n",
       "    <tr>\n",
       "      <th>0</th>\n",
       "      <td>4be12ee6c1732d7f786c5b9a</td>\n",
       "      <td>Movenpick</td>\n",
       "      <td>Ice Cream Shop</td>\n",
       "      <td>23.792333</td>\n",
       "      <td>90.415373</td>\n",
       "    </tr>\n",
       "    <tr>\n",
       "      <th>1</th>\n",
       "      <td>4c5814257329c92817379080</td>\n",
       "      <td>Izumi</td>\n",
       "      <td>Sushi Restaurant</td>\n",
       "      <td>23.788599</td>\n",
       "      <td>90.420536</td>\n",
       "    </tr>\n",
       "    <tr>\n",
       "      <th>2</th>\n",
       "      <td>519ce62a498e4edb08ffc5ba</td>\n",
       "      <td>Kiva Han, Gulshan 1</td>\n",
       "      <td>Café</td>\n",
       "      <td>23.781923</td>\n",
       "      <td>90.415860</td>\n",
       "    </tr>\n",
       "    <tr>\n",
       "      <th>3</th>\n",
       "      <td>4dc528f9e4cd169dc644a25f</td>\n",
       "      <td>North End Coffee Roasters</td>\n",
       "      <td>Café</td>\n",
       "      <td>23.793628</td>\n",
       "      <td>90.424364</td>\n",
       "    </tr>\n",
       "    <tr>\n",
       "      <th>4</th>\n",
       "      <td>574c40bc498eaa071c56ecd7</td>\n",
       "      <td>North End Coffee Roasters</td>\n",
       "      <td>Café</td>\n",
       "      <td>23.782054</td>\n",
       "      <td>90.416337</td>\n",
       "    </tr>\n",
       "    <tr>\n",
       "      <th>5</th>\n",
       "      <td>5670eeda498efccf880ad543</td>\n",
       "      <td>North End Coffee Roasters @ Cityscape Tower</td>\n",
       "      <td>Coffee Shop</td>\n",
       "      <td>23.785826</td>\n",
       "      <td>90.416986</td>\n",
       "    </tr>\n",
       "    <tr>\n",
       "      <th>6</th>\n",
       "      <td>516eb51be4b0500ec38787b2</td>\n",
       "      <td>Astorion</td>\n",
       "      <td>Clothing Store</td>\n",
       "      <td>23.788444</td>\n",
       "      <td>90.414271</td>\n",
       "    </tr>\n",
       "    <tr>\n",
       "      <th>7</th>\n",
       "      <td>51debf4d498e2375fdff6d9b</td>\n",
       "      <td>unimart</td>\n",
       "      <td>Supermarket</td>\n",
       "      <td>23.795924</td>\n",
       "      <td>90.415092</td>\n",
       "    </tr>\n",
       "    <tr>\n",
       "      <th>8</th>\n",
       "      <td>4b9b3162f964a5200cf935e3</td>\n",
       "      <td>BRAC Center</td>\n",
       "      <td>Office</td>\n",
       "      <td>23.780193</td>\n",
       "      <td>90.410185</td>\n",
       "    </tr>\n",
       "    <tr>\n",
       "      <th>9</th>\n",
       "      <td>4c1ad5a3b306c928f65761b7</td>\n",
       "      <td>Taste</td>\n",
       "      <td>Café</td>\n",
       "      <td>23.793325</td>\n",
       "      <td>90.414650</td>\n",
       "    </tr>\n",
       "  </tbody>\n",
       "</table>\n",
       "</div>"
      ],
      "text/plain": [
       "                    VenueId                                         Name  \\\n",
       "0  4be12ee6c1732d7f786c5b9a                                    Movenpick   \n",
       "1  4c5814257329c92817379080                                        Izumi   \n",
       "2  519ce62a498e4edb08ffc5ba                          Kiva Han, Gulshan 1   \n",
       "3  4dc528f9e4cd169dc644a25f                    North End Coffee Roasters   \n",
       "4  574c40bc498eaa071c56ecd7                    North End Coffee Roasters   \n",
       "5  5670eeda498efccf880ad543  North End Coffee Roasters @ Cityscape Tower   \n",
       "6  516eb51be4b0500ec38787b2                                     Astorion   \n",
       "7  51debf4d498e2375fdff6d9b                                      unimart   \n",
       "8  4b9b3162f964a5200cf935e3                                  BRAC Center   \n",
       "9  4c1ad5a3b306c928f65761b7                                        Taste   \n",
       "\n",
       "         Categories   Latitude  Longitude  \n",
       "0    Ice Cream Shop  23.792333  90.415373  \n",
       "1  Sushi Restaurant  23.788599  90.420536  \n",
       "2              Café  23.781923  90.415860  \n",
       "3              Café  23.793628  90.424364  \n",
       "4              Café  23.782054  90.416337  \n",
       "5       Coffee Shop  23.785826  90.416986  \n",
       "6    Clothing Store  23.788444  90.414271  \n",
       "7       Supermarket  23.795924  90.415092  \n",
       "8            Office  23.780193  90.410185  \n",
       "9              Café  23.793325  90.414650  "
      ]
     },
     "execution_count": 11,
     "metadata": {},
     "output_type": "execute_result"
    }
   ],
   "source": [
    "foursquare_venues.head(10)"
   ]
  },
  {
   "cell_type": "markdown",
   "metadata": {},
   "source": [
    "Let's define a function to that will allow us to retrive only the venues that we're interested in."
   ]
  },
  {
   "cell_type": "code",
   "execution_count": 12,
   "metadata": {},
   "outputs": [],
   "source": [
    "def get_venues_of_interest(categories):\n",
    "    words = ['restaurant', 'diner', 'taverna', 'steakhouse', 'food','burger','ice cream', 'fish', 'chicken','hotel','resort', 'pizza','supermarket', 'café', 'coffee', 'bar','bbq']\n",
    "    interested = False\n",
    "    category_name = categories.lower()\n",
    "    for w in words:\n",
    "        if w in category_name:\n",
    "            interested = True\n",
    "    return interested"
   ]
  },
  {
   "cell_type": "markdown",
   "metadata": {},
   "source": [
    "Now, let's retrive the venues that we're interested in."
   ]
  },
  {
   "cell_type": "code",
   "execution_count": 13,
   "metadata": {},
   "outputs": [
    {
     "data": {
      "text/plain": [
       "(98, 5)"
      ]
     },
     "execution_count": 13,
     "metadata": {},
     "output_type": "execute_result"
    }
   ],
   "source": [
    "updated_venues = foursquare_venues[foursquare_venues['Categories'].apply(get_venues_of_interest)].reset_index(drop = True)\n",
    "updated_venues.shape"
   ]
  },
  {
   "cell_type": "markdown",
   "metadata": {},
   "source": [
    "The *'/explore'* endpoint of Foursquare API doesn't return some required venue properties like **price, rating, address, etc**. So we've retrieved more details about each venue from Foursquare by the **venue_id** that we've retrieved earlier. "
   ]
  },
  {
   "cell_type": "code",
   "execution_count": 14,
   "metadata": {},
   "outputs": [],
   "source": [
    "venues_information = []\n",
    "\n",
    "for index, row in updated_venues.iterrows():\n",
    "    venue = []\n",
    "    url = 'https://api.foursquare.com/v2/venues/{}?client_id={}&client_secret={}&oauth_token={}&v={}'.format(row['VenueId'], CLIENT_ID, CLIENT_SECRET,ACCESS_TOKEN, VERSION)\n",
    "\n",
    "    try:\n",
    "        result = requests.get(url).json()\n",
    "    except:\n",
    "        print(\"Some error occured...\")\n",
    "    try:\n",
    "        venue.append(result['response']['venue']['price']['tier'])\n",
    "        venue.append(result['response']['venue']['rating'])\n",
    "        venue.append(result['response']['venue']['location']['address'])\n",
    "        venues_information.append(venue)\n",
    "    except:\n",
    "        pass\n",
    "        \n",
    "venues_details = pd.DataFrame(venues_information, \n",
    "                                  columns = ['PricingTier', 'Rating', \n",
    "                                             'Address'])"
   ]
  },
  {
   "cell_type": "markdown",
   "metadata": {},
   "source": [
    "As FourSquare venue '/details' API endpoint rate limit is only 50 per day for sandbox accounts, so we had to run this multiple times and we stored the data into an excel file. \n",
    "\n",
    "Let's retrieve the venue details dataset from the excel file."
   ]
  },
  {
   "cell_type": "code",
   "execution_count": 15,
   "metadata": {},
   "outputs": [
    {
     "data": {
      "text/plain": [
       "(98, 3)"
      ]
     },
     "execution_count": 15,
     "metadata": {},
     "output_type": "execute_result"
    }
   ],
   "source": [
    "venues_details = pd.read_excel('venues_details.xlsx')\n",
    "venues_details.shape"
   ]
  },
  {
   "cell_type": "markdown",
   "metadata": {},
   "source": [
    "### Data Preparation"
   ]
  },
  {
   "cell_type": "markdown",
   "metadata": {},
   "source": [
    "Now we have **two different datasets**, retrieved from API separately.\n",
    "\n",
    "Let's combine both datasets."
   ]
  },
  {
   "cell_type": "code",
   "execution_count": 16,
   "metadata": {},
   "outputs": [
    {
     "data": {
      "text/html": [
       "<div>\n",
       "<style scoped>\n",
       "    .dataframe tbody tr th:only-of-type {\n",
       "        vertical-align: middle;\n",
       "    }\n",
       "\n",
       "    .dataframe tbody tr th {\n",
       "        vertical-align: top;\n",
       "    }\n",
       "\n",
       "    .dataframe thead th {\n",
       "        text-align: right;\n",
       "    }\n",
       "</style>\n",
       "<table border=\"1\" class=\"dataframe\">\n",
       "  <thead>\n",
       "    <tr style=\"text-align: right;\">\n",
       "      <th></th>\n",
       "      <th>VenueId</th>\n",
       "      <th>Name</th>\n",
       "      <th>Categories</th>\n",
       "      <th>Latitude</th>\n",
       "      <th>Longitude</th>\n",
       "      <th>PricingTier</th>\n",
       "      <th>Rating</th>\n",
       "      <th>Address</th>\n",
       "    </tr>\n",
       "  </thead>\n",
       "  <tbody>\n",
       "    <tr>\n",
       "      <th>0</th>\n",
       "      <td>4be12ee6c1732d7f786c5b9a</td>\n",
       "      <td>Movenpick</td>\n",
       "      <td>Ice Cream Shop</td>\n",
       "      <td>23.792333</td>\n",
       "      <td>90.415373</td>\n",
       "      <td>1.0</td>\n",
       "      <td>8.7</td>\n",
       "      <td>Gulshan, Dhaka</td>\n",
       "    </tr>\n",
       "    <tr>\n",
       "      <th>1</th>\n",
       "      <td>4c5814257329c92817379080</td>\n",
       "      <td>Izumi</td>\n",
       "      <td>Sushi Restaurant</td>\n",
       "      <td>23.788599</td>\n",
       "      <td>90.420536</td>\n",
       "      <td>2.0</td>\n",
       "      <td>8.6</td>\n",
       "      <td>Gulshan, Dhaka</td>\n",
       "    </tr>\n",
       "    <tr>\n",
       "      <th>2</th>\n",
       "      <td>519ce62a498e4edb08ffc5ba</td>\n",
       "      <td>Kiva Han, Gulshan 1</td>\n",
       "      <td>Café</td>\n",
       "      <td>23.781923</td>\n",
       "      <td>90.415860</td>\n",
       "      <td>1.0</td>\n",
       "      <td>8.1</td>\n",
       "      <td>Gulshan, Dhaka</td>\n",
       "    </tr>\n",
       "    <tr>\n",
       "      <th>3</th>\n",
       "      <td>4dc528f9e4cd169dc644a25f</td>\n",
       "      <td>North End Coffee Roasters</td>\n",
       "      <td>Café</td>\n",
       "      <td>23.793628</td>\n",
       "      <td>90.424364</td>\n",
       "      <td>1.0</td>\n",
       "      <td>8.6</td>\n",
       "      <td>Dhaka</td>\n",
       "    </tr>\n",
       "    <tr>\n",
       "      <th>4</th>\n",
       "      <td>574c40bc498eaa071c56ecd7</td>\n",
       "      <td>North End Coffee Roasters</td>\n",
       "      <td>Café</td>\n",
       "      <td>23.782054</td>\n",
       "      <td>90.416337</td>\n",
       "      <td>1.0</td>\n",
       "      <td>8.1</td>\n",
       "      <td>Gulshan, Gulshan 2</td>\n",
       "    </tr>\n",
       "  </tbody>\n",
       "</table>\n",
       "</div>"
      ],
      "text/plain": [
       "                    VenueId                       Name        Categories  \\\n",
       "0  4be12ee6c1732d7f786c5b9a                  Movenpick    Ice Cream Shop   \n",
       "1  4c5814257329c92817379080                      Izumi  Sushi Restaurant   \n",
       "2  519ce62a498e4edb08ffc5ba        Kiva Han, Gulshan 1              Café   \n",
       "3  4dc528f9e4cd169dc644a25f  North End Coffee Roasters              Café   \n",
       "4  574c40bc498eaa071c56ecd7  North End Coffee Roasters              Café   \n",
       "\n",
       "    Latitude  Longitude  PricingTier  Rating             Address  \n",
       "0  23.792333  90.415373          1.0     8.7      Gulshan, Dhaka  \n",
       "1  23.788599  90.420536          2.0     8.6      Gulshan, Dhaka  \n",
       "2  23.781923  90.415860          1.0     8.1      Gulshan, Dhaka  \n",
       "3  23.793628  90.424364          1.0     8.6               Dhaka  \n",
       "4  23.782054  90.416337          1.0     8.1  Gulshan, Gulshan 2  "
      ]
     },
     "execution_count": 16,
     "metadata": {},
     "output_type": "execute_result"
    }
   ],
   "source": [
    "df = pd.concat([updated_venues, venues_details], axis = 1, sort = False)\n",
    "df.head()"
   ]
  },
  {
   "cell_type": "markdown",
   "metadata": {},
   "source": [
    "We've some rows with missing **PricingTier and Rating** values, let's drop them."
   ]
  },
  {
   "cell_type": "code",
   "execution_count": 17,
   "metadata": {},
   "outputs": [
    {
     "name": "stdout",
     "output_type": "stream",
     "text": [
      "Total number of venues available: 85\n"
     ]
    }
   ],
   "source": [
    "dataset = df.dropna().reset_index(drop=True)\n",
    "print(\"Total number of venues available: {}\".format(dataset.shape[0]))"
   ]
  },
  {
   "cell_type": "markdown",
   "metadata": {},
   "source": [
    "Now that our dataset is ready, let's plot all the venues in the dataset on the map."
   ]
  },
  {
   "cell_type": "code",
   "execution_count": 18,
   "metadata": {},
   "outputs": [],
   "source": [
    "dhaka_venues_map = folium.Map(location = dhaka_latlong, zoom_start = 12)\n",
    "\n",
    "for name, latitude, longitude in zip(dataset['Name'], dataset['Latitude'], dataset['Longitude']):\n",
    "    label = '{}'.format(name)\n",
    "    label = folium.Popup(label, parse_html = True)\n",
    "    folium.CircleMarker(\n",
    "        [latitude, longitude],\n",
    "        radius = 5,\n",
    "        popup = label,\n",
    "        color = 'green',\n",
    "        fill = True,\n",
    "        fill_color = '#3186cc',\n",
    "        fill_opacity = 0.7,\n",
    "        parse_html = False).add_to(dhaka_venues_map)  \n",
    "\n",
    "#dhaka_venues_map"
   ]
  },
  {
   "cell_type": "markdown",
   "metadata": {},
   "source": [
    "## 3. Methodology <a name=\"methodology\"></a>"
   ]
  },
  {
   "cell_type": "markdown",
   "metadata": {},
   "source": [
    "The main goal of this project is to explore various venues in Dhaka based on user rating and average price. It aims at allowing visitors to identify the best places to eat and stay around the city. We will extract data within an area of **9km** around the city center, as it covers most of the places of the City.\n",
    "\n",
    "In the first step, we have retrieved the venues from **Foursquare** within 9km from Gulshan, Dhaka. But the initial data doesn't contain venue details like **price, rating, etc**. So we've retrieved more details about each venue from Foursquare by the **venue_id** that we've retrieved earlier. \n",
    "\n",
    "In the second step, we've **combined the detailed dataset** with the previously retrieved data. Then we've **cleaned the data** by dropping the rows with missing prices or ratings. So the final dataset contains all the required features about each venue including price and rating.\n",
    "\n",
    "In the final step, we'll analyze the data that we created based on the ratings and price of each venue. We will use **heatmaps** to identify areas where the venues are located. This will allow visitors to choose the areas with **a large number of venues**, this way they will have more options to choose from in one go. We'll explore venues based on pricing tier and rating. We'll identify the **number of venues per category using a barplot**. We'll identify which categories of venues are popular in the city. We will present the results of the analysis in the form of **plots, maps** to the stakeholders so that it'll be easy to understand for them. The venues **will be clustered based on the extracted information** we've for each venue. We'll analyze the areas that belong to each cluster. This way we'll be able to identify the areas that are most suitable for a particular visitor based on their **pricing and rating preferences**."
   ]
  },
  {
   "cell_type": "markdown",
   "metadata": {},
   "source": [
    "## 4. Analysis <a name=\"analysis\"></a>"
   ]
  },
  {
   "cell_type": "markdown",
   "metadata": {},
   "source": [
    "Now we will perform some basic explanatory data analysis to get more insights from our raw data.\n",
    "\n",
    "Let's use a heatmap to see in which areas of the city the venues are located."
   ]
  },
  {
   "cell_type": "code",
   "execution_count": 19,
   "metadata": {},
   "outputs": [],
   "source": [
    "import json # library to handle JSON files\n",
    "\n",
    "with open('dhaka.json') as json_data:\n",
    "    dhaka_geojson = json.load(json_data)\n",
    "\n",
    "def area_style(feature):\n",
    "    return { 'color': 'blue', 'fill': False }"
   ]
  },
  {
   "cell_type": "code",
   "execution_count": 20,
   "metadata": {},
   "outputs": [],
   "source": [
    "venues_latlons = []\n",
    "for index, row in dataset.iterrows():\n",
    "    venues_latlons.append([row['Latitude'],row['Longitude']])"
   ]
  },
  {
   "cell_type": "code",
   "execution_count": 21,
   "metadata": {},
   "outputs": [
    {
     "data": {
      "text/plain": [
       "<folium.features.GeoJson at 0x7f6a65404f98>"
      ]
     },
     "execution_count": 21,
     "metadata": {},
     "output_type": "execute_result"
    }
   ],
   "source": [
    "from folium import plugins\n",
    "from folium.plugins import HeatMap\n",
    "\n",
    "map_dhaka = folium.Map(location=dhaka_latlong, zoom_start=12)\n",
    "folium.TileLayer('cartodbpositron').add_to(map_dhaka) #cartodbpositron cartodbdark_matter\n",
    "HeatMap(venues_latlons).add_to(map_dhaka)\n",
    "folium.Marker(dhaka_latlong).add_to(map_dhaka)\n",
    "folium.Circle(dhaka_latlong, radius=1000, fill=False, color='white').add_to(map_dhaka)\n",
    "folium.Circle(dhaka_latlong, radius=2000, fill=False, color='white').add_to(map_dhaka)\n",
    "folium.Circle(dhaka_latlong, radius=3000, fill=False, color='white').add_to(map_dhaka)\n",
    "folium.GeoJson(dhaka_geojson, style_function=area_style, name='geojson').add_to(map_dhaka)\n",
    "#map_dhaka"
   ]
  },
  {
   "cell_type": "markdown",
   "metadata": {},
   "source": [
    "Most of the venues are located around the **Dhanmondi** and **Gulshan** area. So, these areas will be pretty much a good choice for visitors."
   ]
  },
  {
   "cell_type": "markdown",
   "metadata": {},
   "source": [
    "### Categories"
   ]
  },
  {
   "cell_type": "markdown",
   "metadata": {},
   "source": [
    "Let's do some analysis based on the category of each venue. We'll use a barplot to visualize the number of venues for each category."
   ]
  },
  {
   "cell_type": "code",
   "execution_count": 22,
   "metadata": {},
   "outputs": [],
   "source": [
    "import seaborn as sns"
   ]
  },
  {
   "cell_type": "code",
   "execution_count": 23,
   "metadata": {},
   "outputs": [
    {
     "data": {
      "text/plain": [
       "Text(0, 0.5, 'Number of Venues')"
      ]
     },
     "execution_count": 23,
     "metadata": {},
     "output_type": "execute_result"
    },
    {
     "data": {
      "image/png": "[encoded data removed]",
      "text/plain": [
       "<Figure size 1080x720 with 1 Axes>"
      ]
     },
     "metadata": {
      "needs_background": "light"
     },
     "output_type": "display_data"
    }
   ],
   "source": [
    "category_count = dataset['Categories'].value_counts()\n",
    "a4_dims = (15, 10)\n",
    "fig, ax = plt.subplots(figsize=a4_dims)\n",
    "ax = sns.barplot(category_count.index, category_count.values, palette=\"Blues_d\")\n",
    "ax.set_xticklabels(ax.get_xticklabels(),rotation=90)\n",
    "ax.axes.set_title(\"Number of venues per category\",fontsize=16)\n",
    "ax.set_xlabel(\"Categories\",fontsize=16)\n",
    "ax.set_ylabel(\"Number of Venues\",fontsize=16)"
   ]
  },
  {
   "cell_type": "markdown",
   "metadata": {},
   "source": [
    "Among the venues in our dataset, most of them are cafes, and a bit lower number of Coffee shops, Restaurants. So, visitors with interest in Cafe will have more options to choose from."
   ]
  },
  {
   "cell_type": "markdown",
   "metadata": {},
   "source": [
    "### Rating"
   ]
  },
  {
   "cell_type": "markdown",
   "metadata": {},
   "source": [
    "Rating plays an important role in determining if a venue is worth visiting. Also, tourists tend to be more interested in previous user ratings for a venue, to decide if they should visit that venue or not.\n",
    "\n",
    "The range of rating in our dataset is 1-10, Let's divide them into 4 bins and assign labels to the bins. Then show the number of venues in each category using a barplot."
   ]
  },
  {
   "cell_type": "code",
   "execution_count": 24,
   "metadata": {},
   "outputs": [],
   "source": [
    "bins = [2.0, 4.0, 6.0, 8.0, 10.0]\n",
    "labels = ['Low', 'Okay', 'Good', 'Excellent']\n",
    "dataset['RatingCategories'] = pd.cut(dataset['Rating'].astype(float), bins = bins, labels = labels, include_lowest = True)"
   ]
  },
  {
   "cell_type": "code",
   "execution_count": 25,
   "metadata": {},
   "outputs": [
    {
     "data": {
      "text/plain": [
       "Text(0, 0.5, 'Number of Venues')"
      ]
     },
     "execution_count": 25,
     "metadata": {},
     "output_type": "execute_result"
    },
    {
     "data": {
      "image/png": "[encoded data removed]",
      "text/plain": [
       "<Figure size 1080x720 with 1 Axes>"
      ]
     },
     "metadata": {
      "needs_background": "light"
     },
     "output_type": "display_data"
    }
   ],
   "source": [
    "rating_count = dataset['RatingCategories'].value_counts()\n",
    "a4_dims = (15, 10)\n",
    "fig, ax = plt.subplots(figsize=a4_dims)\n",
    "ax = sns.barplot(rating_count.index, rating_count.values, palette=\"Blues_d\")\n",
    "ax.set_xticklabels(ax.get_xticklabels(),rotation=90)\n",
    "ax.axes.set_title(\"Number of venues per rating category\",fontsize=16)\n",
    "ax.set_xlabel(\"Rating Categories\",fontsize=16)\n",
    "ax.set_ylabel(\"Number of Venues\",fontsize=16)"
   ]
  },
  {
   "cell_type": "markdown",
   "metadata": {},
   "source": [
    "Let's see what venue categories are highly rated in the city using a boxplot."
   ]
  },
  {
   "cell_type": "code",
   "execution_count": 26,
   "metadata": {},
   "outputs": [
    {
     "data": {
      "text/plain": [
       "Text(0, 0.5, 'Rating')"
      ]
     },
     "execution_count": 26,
     "metadata": {},
     "output_type": "execute_result"
    },
    {
     "data": {
      "image/png": "[encoded data removed]",
      "text/plain": [
       "<Figure size 1080x720 with 1 Axes>"
      ]
     },
     "metadata": {
      "needs_background": "light"
     },
     "output_type": "display_data"
    }
   ],
   "source": [
    "a4_dims = (15, 10)\n",
    "fig, ax = plt.subplots(figsize=a4_dims)\n",
    "ax = ax = sns.boxplot(x=\"Categories\", y=\"Rating\", data=dataset)\n",
    "ax.set_xticklabels(ax.get_xticklabels(),rotation=90)\n",
    "ax.axes.set_title(\"Rating per venue category\",fontsize=16)\n",
    "ax.set_xlabel(\"Categories\",fontsize=16)\n",
    "ax.set_ylabel(\"Rating\",fontsize=16)"
   ]
  },
  {
   "cell_type": "markdown",
   "metadata": {},
   "source": [
    "The plot shows the **Ice Cream Shop** and **Cafe** categories are highly rated.\n",
    "\n",
    "Let's plot the rating categories on the map, and see which areas have the highest rated venues."
   ]
  },
  {
   "cell_type": "code",
   "execution_count": 27,
   "metadata": {},
   "outputs": [],
   "source": [
    "color_map = {'Low': 'red', 'Okay': 'lightred', 'Good': 'orange', 'Excellent': 'green'}\n",
    "\n",
    "rating_map = folium.Map(location = dhaka_latlong, zoom_start = 12)\n",
    "\n",
    "for name, address, latitude, longitude, rating_cat in zip(dataset['Name'], \n",
    "                                                          dataset['Address'], \n",
    "                                                          dataset['Latitude'], \n",
    "                                                          dataset['Longitude'], \n",
    "                                                          dataset['RatingCategories']):\n",
    "    label = '{}, {} - ({})'.format(name, address, rating_cat)\n",
    "    label = folium.Popup(label, parse_html = True)\n",
    "    folium.Marker(\n",
    "        [latitude, longitude],\n",
    "        icon = folium.Icon(color = color_map[rating_cat]),\n",
    "        popup = label).add_to(rating_map)  \n",
    "\n",
    "#rating_map"
   ]
  },
  {
   "cell_type": "markdown",
   "metadata": {},
   "source": [
    "### Price"
   ]
  },
  {
   "cell_type": "markdown",
   "metadata": {},
   "source": [
    "There are many venues in Dhaka for eating and staying, but every person has their own budget or not all the venues are affordable to everyone. Let's how many venues fall under each pricing tier using a barplot.\n",
    "\n",
    "There are four pricing tiers defined by the Foursquare API, 1 being the cheapest, and 4 being the most costly."
   ]
  },
  {
   "cell_type": "code",
   "execution_count": 28,
   "metadata": {},
   "outputs": [
    {
     "data": {
      "text/plain": [
       "Text(0, 0.5, 'Number of Venues')"
      ]
     },
     "execution_count": 28,
     "metadata": {},
     "output_type": "execute_result"
    },
    {
     "data": {
      "image/png": "[encoded data removed]",
      "text/plain": [
       "<Figure size 1080x720 with 1 Axes>"
      ]
     },
     "metadata": {
      "needs_background": "light"
     },
     "output_type": "display_data"
    }
   ],
   "source": [
    "price_tier_count = dataset['PricingTier'].value_counts()\n",
    "a4_dims = (15, 10)\n",
    "fig, ax = plt.subplots(figsize=a4_dims)\n",
    "ax = sns.barplot(price_tier_count.index, price_tier_count.values, palette=\"Blues_d\")\n",
    "ax.set_xticklabels(ax.get_xticklabels(),rotation=90)\n",
    "ax.axes.set_title(\"Number of venues per pricing tier\",fontsize=16)\n",
    "ax.set_xlabel(\"Pricing Tier\",fontsize=16)\n",
    "ax.set_ylabel(\"Number of Venues\",fontsize=16)"
   ]
  },
  {
   "cell_type": "markdown",
   "metadata": {},
   "source": [
    "It's good to see that most of the venues are in the cheapest pricing tier."
   ]
  },
  {
   "cell_type": "markdown",
   "metadata": {},
   "source": [
    "Let's plot the pricing tiers on the map to visualize pricing tiers in different areas."
   ]
  },
  {
   "cell_type": "code",
   "execution_count": 29,
   "metadata": {},
   "outputs": [],
   "source": [
    "color_map = {'1.0': 'green', '2.0': 'orange', '3.0': 'lightred', '4.0': 'red'}\n",
    "\n",
    "price_visualization_map = folium.Map(location = dhaka_latlong, zoom_start = 12)\n",
    "\n",
    "for name, address, latitude, longitude, price_tier in zip(dataset['Name'], \n",
    "                                                           dataset['Address'], \n",
    "                                                           dataset['Latitude'], \n",
    "                                                           dataset['Longitude'], \n",
    "                                                           dataset['PricingTier'].astype(str)):\n",
    "    label = '{}, {}'.format(name, address)\n",
    "    label = folium.Popup(label, parse_html = True)\n",
    "    folium.Marker(\n",
    "        [latitude, longitude],\n",
    "        icon = folium.Icon(color = color_map[price_tier]),\n",
    "        popup = label).add_to(price_visualization_map)  \n",
    "\n",
    "#price_visualization_map"
   ]
  },
  {
   "cell_type": "markdown",
   "metadata": {},
   "source": [
    "### Clustering"
   ]
  },
  {
   "cell_type": "markdown",
   "metadata": {},
   "source": [
    "Let's cluster the venues based on their price, rating, and location to get more insights about the venues and identify the relationship between them.\n",
    "\n",
    "First, we'll drop the columns that we won't use for clustering. Then, we'll use **the Elbow Method** to determine the optimal number of clusters."
   ]
  },
  {
   "cell_type": "code",
   "execution_count": 30,
   "metadata": {},
   "outputs": [],
   "source": [
    "clustering_dataset = dataset.drop(['VenueId', 'Name', 'Categories', 'Address', 'RatingCategories'], axis=1)"
   ]
  },
  {
   "cell_type": "code",
   "execution_count": 31,
   "metadata": {},
   "outputs": [
    {
     "data": {
      "image/png": "[encoded data removed]",
      "text/plain": [
       "<Figure size 432x288 with 1 Axes>"
      ]
     },
     "metadata": {
      "needs_background": "light"
     },
     "output_type": "display_data"
    }
   ],
   "source": [
    "from sklearn.cluster import KMeans\n",
    "wcss = []\n",
    "for i in range(1, 11):\n",
    "    kmeans = KMeans(n_clusters = i, init = 'k-means++', random_state = 42)\n",
    "    kmeans.fit(clustering_dataset)\n",
    "    wcss.append(kmeans.inertia_)\n",
    "plt.plot(range(1, 11), wcss)\n",
    "plt.title('The Elbow Method')\n",
    "plt.xlabel('Number of clusters')\n",
    "plt.ylabel('WCSS')\n",
    "plt.show()"
   ]
  },
  {
   "cell_type": "markdown",
   "metadata": {},
   "source": [
    "The steps of the elbow seem pretty smooth. Let's go with **2 clusters**."
   ]
  },
  {
   "cell_type": "code",
   "execution_count": 32,
   "metadata": {},
   "outputs": [
    {
     "data": {
      "text/html": [
       "<div>\n",
       "<style scoped>\n",
       "    .dataframe tbody tr th:only-of-type {\n",
       "        vertical-align: middle;\n",
       "    }\n",
       "\n",
       "    .dataframe tbody tr th {\n",
       "        vertical-align: top;\n",
       "    }\n",
       "\n",
       "    .dataframe thead th {\n",
       "        text-align: right;\n",
       "    }\n",
       "</style>\n",
       "<table border=\"1\" class=\"dataframe\">\n",
       "  <thead>\n",
       "    <tr style=\"text-align: right;\">\n",
       "      <th></th>\n",
       "      <th>Cluster Labels</th>\n",
       "      <th>VenueId</th>\n",
       "      <th>Name</th>\n",
       "      <th>Categories</th>\n",
       "      <th>Latitude</th>\n",
       "      <th>Longitude</th>\n",
       "      <th>PricingTier</th>\n",
       "      <th>Rating</th>\n",
       "      <th>Address</th>\n",
       "      <th>RatingCategories</th>\n",
       "    </tr>\n",
       "  </thead>\n",
       "  <tbody>\n",
       "    <tr>\n",
       "      <th>0</th>\n",
       "      <td>0</td>\n",
       "      <td>4be12ee6c1732d7f786c5b9a</td>\n",
       "      <td>Movenpick</td>\n",
       "      <td>Ice Cream Shop</td>\n",
       "      <td>23.792333</td>\n",
       "      <td>90.415373</td>\n",
       "      <td>1.0</td>\n",
       "      <td>8.7</td>\n",
       "      <td>Gulshan, Dhaka</td>\n",
       "      <td>Excellent</td>\n",
       "    </tr>\n",
       "    <tr>\n",
       "      <th>1</th>\n",
       "      <td>0</td>\n",
       "      <td>4c5814257329c92817379080</td>\n",
       "      <td>Izumi</td>\n",
       "      <td>Sushi Restaurant</td>\n",
       "      <td>23.788599</td>\n",
       "      <td>90.420536</td>\n",
       "      <td>2.0</td>\n",
       "      <td>8.6</td>\n",
       "      <td>Gulshan, Dhaka</td>\n",
       "      <td>Excellent</td>\n",
       "    </tr>\n",
       "    <tr>\n",
       "      <th>2</th>\n",
       "      <td>0</td>\n",
       "      <td>519ce62a498e4edb08ffc5ba</td>\n",
       "      <td>Kiva Han, Gulshan 1</td>\n",
       "      <td>Café</td>\n",
       "      <td>23.781923</td>\n",
       "      <td>90.415860</td>\n",
       "      <td>1.0</td>\n",
       "      <td>8.1</td>\n",
       "      <td>Gulshan, Dhaka</td>\n",
       "      <td>Excellent</td>\n",
       "    </tr>\n",
       "    <tr>\n",
       "      <th>3</th>\n",
       "      <td>0</td>\n",
       "      <td>4dc528f9e4cd169dc644a25f</td>\n",
       "      <td>North End Coffee Roasters</td>\n",
       "      <td>Café</td>\n",
       "      <td>23.793628</td>\n",
       "      <td>90.424364</td>\n",
       "      <td>1.0</td>\n",
       "      <td>8.6</td>\n",
       "      <td>Dhaka</td>\n",
       "      <td>Excellent</td>\n",
       "    </tr>\n",
       "    <tr>\n",
       "      <th>4</th>\n",
       "      <td>0</td>\n",
       "      <td>574c40bc498eaa071c56ecd7</td>\n",
       "      <td>North End Coffee Roasters</td>\n",
       "      <td>Café</td>\n",
       "      <td>23.782054</td>\n",
       "      <td>90.416337</td>\n",
       "      <td>1.0</td>\n",
       "      <td>8.1</td>\n",
       "      <td>Gulshan, Gulshan 2</td>\n",
       "      <td>Excellent</td>\n",
       "    </tr>\n",
       "  </tbody>\n",
       "</table>\n",
       "</div>"
      ],
      "text/plain": [
       "   Cluster Labels                   VenueId                       Name  \\\n",
       "0               0  4be12ee6c1732d7f786c5b9a                  Movenpick   \n",
       "1               0  4c5814257329c92817379080                      Izumi   \n",
       "2               0  519ce62a498e4edb08ffc5ba        Kiva Han, Gulshan 1   \n",
       "3               0  4dc528f9e4cd169dc644a25f  North End Coffee Roasters   \n",
       "4               0  574c40bc498eaa071c56ecd7  North End Coffee Roasters   \n",
       "\n",
       "         Categories   Latitude  Longitude  PricingTier  Rating  \\\n",
       "0    Ice Cream Shop  23.792333  90.415373          1.0     8.7   \n",
       "1  Sushi Restaurant  23.788599  90.420536          2.0     8.6   \n",
       "2              Café  23.781923  90.415860          1.0     8.1   \n",
       "3              Café  23.793628  90.424364          1.0     8.6   \n",
       "4              Café  23.782054  90.416337          1.0     8.1   \n",
       "\n",
       "              Address RatingCategories  \n",
       "0      Gulshan, Dhaka        Excellent  \n",
       "1      Gulshan, Dhaka        Excellent  \n",
       "2      Gulshan, Dhaka        Excellent  \n",
       "3               Dhaka        Excellent  \n",
       "4  Gulshan, Gulshan 2        Excellent  "
      ]
     },
     "execution_count": 32,
     "metadata": {},
     "output_type": "execute_result"
    }
   ],
   "source": [
    "kmeans = KMeans(n_clusters = 2, init = 'k-means++', random_state = 42).fit(clustering_dataset)\n",
    "dataset.insert(0, 'Cluster Labels', kmeans.labels_)\n",
    "dataset.head(5)"
   ]
  },
  {
   "cell_type": "markdown",
   "metadata": {},
   "source": [
    "Now we'll plot the clusters on the map to get a better understanding."
   ]
  },
  {
   "cell_type": "code",
   "execution_count": 33,
   "metadata": {},
   "outputs": [],
   "source": [
    "cluster_map = folium.Map(location = dhaka_latlong, zoom_start = 12)\n",
    "color_map = { 0: 'blue', 1: 'red'}\n",
    "\n",
    "# add venues to the map\n",
    "markers_colors = []\n",
    "for venue, address, cluster, latitude, longitude in zip(dataset['Name'], \n",
    "                                                        dataset['Address'], \n",
    "                                                        dataset['Cluster Labels'], \n",
    "                                                        dataset['Latitude'], \n",
    "                                                        dataset['Longitude']):\n",
    "    label = folium.Popup(str(venue) + ', ' + str(address), parse_html = True)\n",
    "    folium.CircleMarker(\n",
    "        [latitude, longitude],\n",
    "        radius = 5,\n",
    "        popup = label,\n",
    "        color = color_map[cluster],\n",
    "        fill = True,\n",
    "        fill_color = color_map[cluster],\n",
    "        fill_opacity = 0.7).add_to(cluster_map)\n",
    "\n",
    "# add cluster centers to the map\n",
    "for index, cluster in enumerate(kmeans.cluster_centers_):\n",
    "    latitude = cluster[0]\n",
    "    longitude = cluster[1]\n",
    "    label = folium.Popup(\"Cluster: \" + str(index), parse_html = True)\n",
    "    folium.CircleMarker(\n",
    "        [latitude, longitude],\n",
    "        radius = 10,\n",
    "        popup = label,\n",
    "        color = color_map[index],\n",
    "        fill = True,\n",
    "        fill_color = color_map[index],\n",
    "        fill_opacity = 0.7).add_to(cluster_map)\n",
    "\n",
    "#cluster_map"
   ]
  },
  {
   "cell_type": "markdown",
   "metadata": {},
   "source": [
    "### Examine Clusters"
   ]
  },
  {
   "cell_type": "markdown",
   "metadata": {},
   "source": [
    "Let's examine each of the clusters."
   ]
  },
  {
   "cell_type": "markdown",
   "metadata": {},
   "source": [
    "#### Cluster 1"
   ]
  },
  {
   "cell_type": "code",
   "execution_count": 34,
   "metadata": {},
   "outputs": [
    {
     "data": {
      "text/html": [
       "<div>\n",
       "<style scoped>\n",
       "    .dataframe tbody tr th:only-of-type {\n",
       "        vertical-align: middle;\n",
       "    }\n",
       "\n",
       "    .dataframe tbody tr th {\n",
       "        vertical-align: top;\n",
       "    }\n",
       "\n",
       "    .dataframe thead th {\n",
       "        text-align: right;\n",
       "    }\n",
       "</style>\n",
       "<table border=\"1\" class=\"dataframe\">\n",
       "  <thead>\n",
       "    <tr style=\"text-align: right;\">\n",
       "      <th></th>\n",
       "      <th>Cluster Labels</th>\n",
       "      <th>VenueId</th>\n",
       "      <th>Name</th>\n",
       "      <th>Categories</th>\n",
       "      <th>Latitude</th>\n",
       "      <th>Longitude</th>\n",
       "      <th>PricingTier</th>\n",
       "      <th>Rating</th>\n",
       "      <th>Address</th>\n",
       "      <th>RatingCategories</th>\n",
       "    </tr>\n",
       "  </thead>\n",
       "  <tbody>\n",
       "    <tr>\n",
       "      <th>0</th>\n",
       "      <td>0</td>\n",
       "      <td>4be12ee6c1732d7f786c5b9a</td>\n",
       "      <td>Movenpick</td>\n",
       "      <td>Ice Cream Shop</td>\n",
       "      <td>23.792333</td>\n",
       "      <td>90.415373</td>\n",
       "      <td>1.0</td>\n",
       "      <td>8.7</td>\n",
       "      <td>Gulshan, Dhaka</td>\n",
       "      <td>Excellent</td>\n",
       "    </tr>\n",
       "    <tr>\n",
       "      <th>1</th>\n",
       "      <td>0</td>\n",
       "      <td>4c5814257329c92817379080</td>\n",
       "      <td>Izumi</td>\n",
       "      <td>Sushi Restaurant</td>\n",
       "      <td>23.788599</td>\n",
       "      <td>90.420536</td>\n",
       "      <td>2.0</td>\n",
       "      <td>8.6</td>\n",
       "      <td>Gulshan, Dhaka</td>\n",
       "      <td>Excellent</td>\n",
       "    </tr>\n",
       "    <tr>\n",
       "      <th>2</th>\n",
       "      <td>0</td>\n",
       "      <td>519ce62a498e4edb08ffc5ba</td>\n",
       "      <td>Kiva Han, Gulshan 1</td>\n",
       "      <td>Café</td>\n",
       "      <td>23.781923</td>\n",
       "      <td>90.415860</td>\n",
       "      <td>1.0</td>\n",
       "      <td>8.1</td>\n",
       "      <td>Gulshan, Dhaka</td>\n",
       "      <td>Excellent</td>\n",
       "    </tr>\n",
       "    <tr>\n",
       "      <th>3</th>\n",
       "      <td>0</td>\n",
       "      <td>4dc528f9e4cd169dc644a25f</td>\n",
       "      <td>North End Coffee Roasters</td>\n",
       "      <td>Café</td>\n",
       "      <td>23.793628</td>\n",
       "      <td>90.424364</td>\n",
       "      <td>1.0</td>\n",
       "      <td>8.6</td>\n",
       "      <td>Dhaka</td>\n",
       "      <td>Excellent</td>\n",
       "    </tr>\n",
       "    <tr>\n",
       "      <th>4</th>\n",
       "      <td>0</td>\n",
       "      <td>574c40bc498eaa071c56ecd7</td>\n",
       "      <td>North End Coffee Roasters</td>\n",
       "      <td>Café</td>\n",
       "      <td>23.782054</td>\n",
       "      <td>90.416337</td>\n",
       "      <td>1.0</td>\n",
       "      <td>8.1</td>\n",
       "      <td>Gulshan, Gulshan 2</td>\n",
       "      <td>Excellent</td>\n",
       "    </tr>\n",
       "  </tbody>\n",
       "</table>\n",
       "</div>"
      ],
      "text/plain": [
       "   Cluster Labels                   VenueId                       Name  \\\n",
       "0               0  4be12ee6c1732d7f786c5b9a                  Movenpick   \n",
       "1               0  4c5814257329c92817379080                      Izumi   \n",
       "2               0  519ce62a498e4edb08ffc5ba        Kiva Han, Gulshan 1   \n",
       "3               0  4dc528f9e4cd169dc644a25f  North End Coffee Roasters   \n",
       "4               0  574c40bc498eaa071c56ecd7  North End Coffee Roasters   \n",
       "\n",
       "         Categories   Latitude  Longitude  PricingTier  Rating  \\\n",
       "0    Ice Cream Shop  23.792333  90.415373          1.0     8.7   \n",
       "1  Sushi Restaurant  23.788599  90.420536          2.0     8.6   \n",
       "2              Café  23.781923  90.415860          1.0     8.1   \n",
       "3              Café  23.793628  90.424364          1.0     8.6   \n",
       "4              Café  23.782054  90.416337          1.0     8.1   \n",
       "\n",
       "              Address RatingCategories  \n",
       "0      Gulshan, Dhaka        Excellent  \n",
       "1      Gulshan, Dhaka        Excellent  \n",
       "2      Gulshan, Dhaka        Excellent  \n",
       "3               Dhaka        Excellent  \n",
       "4  Gulshan, Gulshan 2        Excellent  "
      ]
     },
     "execution_count": 34,
     "metadata": {},
     "output_type": "execute_result"
    }
   ],
   "source": [
    "result = dataset[dataset['Cluster Labels'] == 0]\n",
    "result.head().reset_index(drop = True)"
   ]
  },
  {
   "cell_type": "code",
   "execution_count": 35,
   "metadata": {},
   "outputs": [
    {
     "name": "stdout",
     "output_type": "stream",
     "text": [
      "Average pricing tier of Cluster 1: 1.40 \n",
      "Average rating of Cluster 1: 7.71\n"
     ]
    }
   ],
   "source": [
    "print(\"Average pricing tier of Cluster 1: {:.02f} \\nAverage rating of Cluster 1: {:.02f}\".\n",
    "      format(result['PricingTier'].mean(), result['Rating'].astype(float).mean()))"
   ]
  },
  {
   "cell_type": "markdown",
   "metadata": {},
   "source": [
    "#### Cluster 1"
   ]
  },
  {
   "cell_type": "code",
   "execution_count": 36,
   "metadata": {},
   "outputs": [
    {
     "data": {
      "text/html": [
       "<div>\n",
       "<style scoped>\n",
       "    .dataframe tbody tr th:only-of-type {\n",
       "        vertical-align: middle;\n",
       "    }\n",
       "\n",
       "    .dataframe tbody tr th {\n",
       "        vertical-align: top;\n",
       "    }\n",
       "\n",
       "    .dataframe thead th {\n",
       "        text-align: right;\n",
       "    }\n",
       "</style>\n",
       "<table border=\"1\" class=\"dataframe\">\n",
       "  <thead>\n",
       "    <tr style=\"text-align: right;\">\n",
       "      <th></th>\n",
       "      <th>Cluster Labels</th>\n",
       "      <th>VenueId</th>\n",
       "      <th>Name</th>\n",
       "      <th>Categories</th>\n",
       "      <th>Latitude</th>\n",
       "      <th>Longitude</th>\n",
       "      <th>PricingTier</th>\n",
       "      <th>Rating</th>\n",
       "      <th>Address</th>\n",
       "      <th>RatingCategories</th>\n",
       "    </tr>\n",
       "  </thead>\n",
       "  <tbody>\n",
       "    <tr>\n",
       "      <th>0</th>\n",
       "      <td>1</td>\n",
       "      <td>4dba722d4b22153e34b30ec4</td>\n",
       "      <td>Santoor</td>\n",
       "      <td>Indian Restaurant</td>\n",
       "      <td>23.751812</td>\n",
       "      <td>90.377602</td>\n",
       "      <td>2.0</td>\n",
       "      <td>6.9</td>\n",
       "      <td>Dhanmondi, Dhaka</td>\n",
       "      <td>Good</td>\n",
       "    </tr>\n",
       "    <tr>\n",
       "      <th>1</th>\n",
       "      <td>1</td>\n",
       "      <td>4f842dd5e4b02ab94544f4e2</td>\n",
       "      <td>FARS Hotel &amp; Resorts</td>\n",
       "      <td>Hotel</td>\n",
       "      <td>23.731652</td>\n",
       "      <td>90.410035</td>\n",
       "      <td>1.0</td>\n",
       "      <td>6.9</td>\n",
       "      <td>Dhanmondi, Dhaka</td>\n",
       "      <td>Good</td>\n",
       "    </tr>\n",
       "    <tr>\n",
       "      <th>2</th>\n",
       "      <td>1</td>\n",
       "      <td>51237758e4b0dd57c25b958a</td>\n",
       "      <td>Pizza King</td>\n",
       "      <td>Pizza Place</td>\n",
       "      <td>23.719945</td>\n",
       "      <td>90.388840</td>\n",
       "      <td>1.0</td>\n",
       "      <td>6.7</td>\n",
       "      <td>Mohammadpur, Dhaka</td>\n",
       "      <td>Good</td>\n",
       "    </tr>\n",
       "    <tr>\n",
       "      <th>3</th>\n",
       "      <td>1</td>\n",
       "      <td>4fe43d88e4b0a94749f4f07d</td>\n",
       "      <td>Seventh Heaven</td>\n",
       "      <td>Café</td>\n",
       "      <td>23.758298</td>\n",
       "      <td>90.374111</td>\n",
       "      <td>2.0</td>\n",
       "      <td>6.7</td>\n",
       "      <td>Mohammadpur, Dhaka</td>\n",
       "      <td>Good</td>\n",
       "    </tr>\n",
       "    <tr>\n",
       "      <th>4</th>\n",
       "      <td>1</td>\n",
       "      <td>4ccd9a6397d0224ba32867b8</td>\n",
       "      <td>BFC, Uttara</td>\n",
       "      <td>Fried Chicken Joint</td>\n",
       "      <td>23.861098</td>\n",
       "      <td>90.400060</td>\n",
       "      <td>1.0</td>\n",
       "      <td>6.9</td>\n",
       "      <td>Pallabi, Dhaka</td>\n",
       "      <td>Good</td>\n",
       "    </tr>\n",
       "  </tbody>\n",
       "</table>\n",
       "</div>"
      ],
      "text/plain": [
       "   Cluster Labels                   VenueId                  Name  \\\n",
       "0               1  4dba722d4b22153e34b30ec4               Santoor   \n",
       "1               1  4f842dd5e4b02ab94544f4e2  FARS Hotel & Resorts   \n",
       "2               1  51237758e4b0dd57c25b958a            Pizza King   \n",
       "3               1  4fe43d88e4b0a94749f4f07d        Seventh Heaven   \n",
       "4               1  4ccd9a6397d0224ba32867b8           BFC, Uttara   \n",
       "\n",
       "            Categories   Latitude  Longitude  PricingTier  Rating  \\\n",
       "0    Indian Restaurant  23.751812  90.377602          2.0     6.9   \n",
       "1                Hotel  23.731652  90.410035          1.0     6.9   \n",
       "2          Pizza Place  23.719945  90.388840          1.0     6.7   \n",
       "3                 Café  23.758298  90.374111          2.0     6.7   \n",
       "4  Fried Chicken Joint  23.861098  90.400060          1.0     6.9   \n",
       "\n",
       "              Address RatingCategories  \n",
       "0    Dhanmondi, Dhaka             Good  \n",
       "1    Dhanmondi, Dhaka             Good  \n",
       "2  Mohammadpur, Dhaka             Good  \n",
       "3  Mohammadpur, Dhaka             Good  \n",
       "4      Pallabi, Dhaka             Good  "
      ]
     },
     "execution_count": 36,
     "metadata": {},
     "output_type": "execute_result"
    }
   ],
   "source": [
    "result = dataset[dataset['Cluster Labels'] == 1]\n",
    "result.head().reset_index(drop = True)"
   ]
  },
  {
   "cell_type": "code",
   "execution_count": 37,
   "metadata": {},
   "outputs": [
    {
     "name": "stdout",
     "output_type": "stream",
     "text": [
      "Average pricing tier of Cluster 2: 1.39 \n",
      "Average rating of Cluster 2: 6.23\n"
     ]
    }
   ],
   "source": [
    "print(\"Average pricing tier of Cluster 2: {:.02f} \\nAverage rating of Cluster 2: {:.02f}\".\n",
    "      format(result['PricingTier'].mean(), result['Rating'].astype(float).mean()))"
   ]
  },
  {
   "cell_type": "markdown",
   "metadata": {},
   "source": [
    "## 5. Results and Discussion <a name=\"results\"></a>"
   ]
  },
  {
   "cell_type": "markdown",
   "metadata": {},
   "source": [
    "From our analysis, we can come up with several conclusions that will enable tourists to choose the perfect venues to eat and stay in Dhaka, Bangladesh. We have extracted data within an area of 9km around the center of Dhaka. Initially, a total of 154 venues were fetched containing the categories of venues. As our analysis was focused mainly on the food and hotel/resort category, we removed other categories. The total number of venues were 98 after removing other categories. For these 98 venues, we fetched additional data: price_tier, rating, address. Then we combined the two datasets and dropped the rows containing the missing price or rating. Finally, we are had a total number of 85 venues available.\n",
    "\n",
    "From the visualization of the venues of our interest, we see that most of the venues are located around the **Dhanmondi** and **Gulshan area**. So, these areas will be pretty much a good choice for visitors. Among the venues in our dataset, most of them are cafes, and a bit lower number of Coffee shops, Restaurants. So, visitors with interest in Cafe will have more options to choose from.\n",
    "\n",
    "The range of rating in our dataset is 1-10, We've divided them into 4 bins with labels Low, Okay, Good, Excellent. We've identified that most of the venues are rated good. The map shows that these venues are around Dhanmondi and Gulshan areas. We've identified that the Ice Cream Shop and Cafe categories are highly rated. So we can say that these categories are most popular around the city. The analysis also shows that most of the venues are in the cheapest pricing tier. \n",
    "\n",
    "Using clustering we've separated the venues into two clusters. The average pricing tier of Cluster 1 shows 1.40 which is cheaper and the average rating of Cluster 1 shows 7.71 which is good. Cluster one contains most of the venues from Gulshan and a few from Dhanmodi. And the average pricing tier of Cluster 2 shows 1.39 which is cheaper and the average rating of Cluster 2 shows 6.23 which lower than cluster 1. Cluster two contains most of the venues from Dhanmondi. So if a tourist is looking for highly rated and cheaper venues then he/she can choose Gulshan. Otherwise, Dhanmondi is also a decent choice.\n",
    "Apart from helping tourists, developers can create a website or mobile application using this information, to help tourists decide the places to visit and hotels to stay in."
   ]
  },
  {
   "cell_type": "markdown",
   "metadata": {},
   "source": [
    "## 6. Conclusion <a name=\"conclusion\"></a>"
   ]
  },
  {
   "cell_type": "markdown",
   "metadata": {},
   "source": [
    "The main goal of this project was to explore and identify popular venues in Dhaka city for tourists based on the user ratings and prices of venues. This project fetched data from the Foursquare API and analyzed the data to get insights. Then the results were visualized using different plots for a better understanding. Finally, a clustering step has been carried out and plotted the resultant clusters on the map. The map shows that there are two main areas tourists can visit: Dhanmondi and Gulshan. Although the Dhanmondi area contains some venues from cluster 1 also. The price ranges of both venues are almost the same, but the rating is a bit higher in the Gulshan area. Other than that both areas are great choices for tourists."
   ]
  },
  {
   "cell_type": "code",
   "execution_count": null,
   "metadata": {},
   "outputs": [],
   "source": []
  }
 ],
 "metadata": {
  "kernelspec": {
   "display_name": "Python",
   "language": "python",
   "name": "conda-env-python-py"
  },
  "language_info": {
   "codemirror_mode": {
    "name": "ipython",
    "version": 3
   },
   "file_extension": ".py",
   "mimetype": "text/x-python",
   "name": "python",
   "nbconvert_exporter": "python",
   "pygments_lexer": "ipython3",
   "version": "3.6.11"
  }
 },
 "nbformat": 4,
 "nbformat_minor": 4
}
